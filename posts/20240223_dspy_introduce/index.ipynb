{
 "cells": [
  {
   "cell_type": "markdown",
   "metadata": {},
   "source": [
    "---\n",
    "title: \"LLM版のPyTorchーDSPyの紹介\"\n",
    "date: 2024-02-23\n",
    "description-meta: \"\"\n",
    "categories: [NLP, LLM, LangChain]\n",
    "---"
   ]
  },
  {
   "cell_type": "markdown",
   "metadata": {},
   "source": [
    "## DSPyとは\n",
    "DSPyはStanford大学が開発したLLMのプロンプトとウェイトを自動的に最適化できるフレームワークです。DSPyは概念的にPyTorchに似ています。プログラムでモジュールを定義し、使うPromptをモデルのウェイトとして扱い、学習データで最適なPromptを学習させます。DSPyの中ではこの学習のステップを「Compile」と呼んでいます。\n",
    "\n",
    "この方法の良い点としてはPromptが裏側に隠れており、変動があるときには表の定義を変え、再度コンパイルするだけで、プログラムが自動的に最適化されます。自分で一々Promptをチューニングしなくでも良いことです。\n",
    "\n",
    "## タスクの説明\n",
    "今回の説明に使うデータはアマゾンのレビューのポジネガ分析データです。\n",
    "ポジネガのラベルは数字で表現され、0はポジティブ、1はニュートラル、2はネガティブです。\n",
    "学習データとテストデータをそれぞれ50件ずつサンプリングしました。"
   ]
  },
  {
   "cell_type": "code",
   "execution_count": 49,
   "metadata": {},
   "outputs": [],
   "source": [
    "import datasets\n",
    "import warnings\n",
    "warnings.filterwarnings('ignore')\n",
    "\n",
    "dataset = datasets.load_dataset(\"tyqiangz/multilingual-sentiments\", \"japanese\")\n",
    "train_set = dataset[\"train\"].shuffle(seed=50).select(range(50))\n",
    "test_set = dataset[\"test\"].shuffle(seed=50).select(range(50))"
   ]
  },
  {
   "cell_type": "markdown",
   "metadata": {},
   "source": [
    "サンプルの例は以下です。"
   ]
  },
  {
   "cell_type": "code",
   "execution_count": 18,
   "metadata": {},
   "outputs": [
    {
     "name": "stdout",
     "output_type": "stream",
     "text": [
      "===レビュー===\n",
      "この製品と似たようなもの (メーカーはわかりません) を6年くらい使ってましたが\n",
      " 肘掛けに負荷をかけたら、肘掛けを固定している部分が壊れたため、似たようなものを\n",
      "探していました。 買う前にレビューを見ていると座面が高いとのレビューがあったので\n",
      "少し気にはなっていましたが 5000円くらいのものは評価があまり良くないので、こ\n",
      "の製品にしました。 で、実際に座ってみるとやっぱり高かったです、なれた高さではな\n",
      "いので自分には合いませんでした。 この製品の肘掛け部分だけを以前の椅子に取り付け\n",
      "て使ってます。 もの自体は良いものだと思います...多分、1時間くらいしか座って\n",
      "ないので質的なことはわかりません。\n",
      "===ラベル===\n",
      "1\n"
     ]
    }
   ],
   "source": [
    "#| code-fold: true\n",
    "#| code-summary: \"Show the code\"\n",
    "\n",
    "def print_with_newline(text, max_length=40):\n",
    "    if len(text) <= max_length:\n",
    "        print(text)\n",
    "    else:\n",
    "        print(text[:max_length])\n",
    "        print_with_newline(text[max_length:], max_length)\n",
    "\n",
    "sample = train_set[0]\n",
    "print(\"===レビュー===\")\n",
    "\n",
    "print_with_newline(sample[\"text\"])\n",
    "print(\"===ラベル===\")\n",
    "print(sample[\"label\"])"
   ]
  },
  {
   "cell_type": "markdown",
   "metadata": {},
   "source": [
    "## Install\n",
    "DSPyをインストールはPIPでできます。\n",
    "```bash\n",
    "pip install dspy-ai\n",
    "```"
   ]
  },
  {
   "cell_type": "markdown",
   "metadata": {},
   "source": [
    "## LLMを使う\n",
    "\n",
    "DSPyでLLMを利用する際に以下のようにLLMを定義する必要があります。今回例としてはOpenAIのモデルを利用していますが、DSPyはローカルのモデルもサポートしています。\n"
   ]
  },
  {
   "cell_type": "code",
   "execution_count": 20,
   "metadata": {},
   "outputs": [],
   "source": [
    "import dspy\n",
    "gpt3_turbo = dspy.OpenAI(model='gpt-3.5-turbo-1106', max_tokens=300)\n",
    "dspy.configure(lm=gpt3_turbo)"
   ]
  },
  {
   "cell_type": "markdown",
   "metadata": {},
   "source": [
    "おすすめの使い方ではないですが、定義した後、このように直接LLMを使うことができます。"
   ]
  },
  {
   "cell_type": "code",
   "execution_count": 35,
   "metadata": {},
   "outputs": [
    {
     "data": {
      "text/plain": [
       "['Hello! How can I assist you today?']"
      ]
     },
     "execution_count": 35,
     "metadata": {},
     "output_type": "execute_result"
    }
   ],
   "source": [
    "gpt3_turbo(\"hello! this is a raw prompt to GPT-3.5\")"
   ]
  },
  {
   "cell_type": "markdown",
   "metadata": {},
   "source": [
    "## Signatureを使う\n",
    "SignatureはDSPyの中で独自に使っている概念です。モジュールのインプット、アウトプット、機能を定義するために、Signitureが使われています。\n",
    "\n",
    "例えば、感情分析する場合は以下のSignatureで定義することができます。"
   ]
  },
  {
   "cell_type": "code",
   "execution_count": 33,
   "metadata": {},
   "outputs": [
    {
     "data": {
      "text/plain": [
       "Prediction(\n",
       "    sentiment='Positive'\n",
       ")"
      ]
     },
     "execution_count": 33,
     "metadata": {},
     "output_type": "execute_result"
    }
   ],
   "source": [
    "sentiment_classifier = dspy.Predict('sentence -> sentiment')\n",
    "sentiment_classifier(sentence=\"博多ラーメンがめちゃくちゃうまい\")"
   ]
  },
  {
   "cell_type": "markdown",
   "metadata": {},
   "source": [
    "以下は実際にGPTに送ったPromptです。"
   ]
  },
  {
   "cell_type": "code",
   "execution_count": 34,
   "metadata": {},
   "outputs": [
    {
     "name": "stdout",
     "output_type": "stream",
     "text": [
      "\n",
      "\n",
      "\n",
      "\n",
      "Given the fields `sentence`, produce the fields `sentiment`.\n",
      "\n",
      "---\n",
      "\n",
      "Follow the following format.\n",
      "\n",
      "Sentence: ${sentence}\n",
      "Sentiment: ${sentiment}\n",
      "\n",
      "---\n",
      "\n",
      "Sentence: 博多ラーメンがめちゃくちゃうまい\n",
      "Sentiment:\u001b[32m Positive\u001b[0m\n",
      "\n",
      "\n",
      "\n"
     ]
    }
   ],
   "source": [
    "gpt3_turbo.inspect_history(n=1)"
   ]
  },
  {
   "cell_type": "markdown",
   "metadata": {},
   "source": [
    "Signature`\"sentence -> sentiment\"`の中に、前の部分はタスクのインプット、後半の部分はタスクのアウトプットです。このような`\"input -> output\"`で書かれるSignitureは`Inline Signature`と呼ばれます。\n",
    "\n",
    "でも、今回のケースでは、この`Inline Signature`だけで解決できません。なぜなら、アウトプットが数字であるため、それを定義する必要があるからです。そのために、Signitureを`Class`として定義する必要があります。また`Class`でSignitureを定義する際に、モジュールのインプット、アウトプットだけでなく、モジュールの機能もDocstringで定義する必要があります。"
   ]
  },
  {
   "cell_type": "code",
   "execution_count": 38,
   "metadata": {},
   "outputs": [
    {
     "data": {
      "text/plain": [
       "Prediction(\n",
       "    answer='0'\n",
       ")"
      ]
     },
     "execution_count": 38,
     "metadata": {},
     "output_type": "execute_result"
    }
   ],
   "source": [
    "class BasicSentimentClassifier(dspy.Signature):\n",
    "    \"\"\"アマゾンの商品レビューに対する感情分析を行い、数字の{0, 1, 2} をアウトプットする。 0: ポジティブ, 1: ニュートラル, 2: ネガティブ\"\"\"\n",
    "\n",
    "    text = dspy.InputField(desc=\"アマゾンの商品レビュー\")\n",
    "    answer = dspy.OutputField(\n",
    "        desc=\"数字で表現した感情分析の結果\",\n",
    "    )\n",
    "classify = dspy.Predict(BasicSentimentClassifier)\n",
    "classify(text=\"博多ラーメンがめちゃくちゃうまい\")"
   ]
  },
  {
   "cell_type": "markdown",
   "metadata": {},
   "source": [
    "これで結果が思う通りに数字で出力されました。ClassでSignitureを定義した実際のPromptも確認しましょう。"
   ]
  },
  {
   "cell_type": "code",
   "execution_count": 39,
   "metadata": {},
   "outputs": [
    {
     "name": "stdout",
     "output_type": "stream",
     "text": [
      "\n",
      "\n",
      "\n",
      "\n",
      "アマゾンの商品レビューに対する感情分析を行い、数字の{0, 1, 2} をアウトプットする。 0: ポジティブ, 1: ニュートラル, 2: ネガティブ\n",
      "\n",
      "---\n",
      "\n",
      "Follow the following format.\n",
      "\n",
      "Text: アマゾンの商品レビュー\n",
      "Answer: 数字で表現した感情分析の結果\n",
      "\n",
      "---\n",
      "\n",
      "Text: 博多ラーメンがめちゃくちゃうまい\n",
      "Answer:\u001b[32m 0\u001b[0m\n",
      "\n",
      "\n",
      "\n"
     ]
    }
   ],
   "source": [
    "gpt3_turbo.inspect_history(n=1)"
   ]
  },
  {
   "cell_type": "markdown",
   "metadata": {},
   "source": [
    "## Moduleを利用する\n",
    "ModuleもDSPyの中にある固有概念です。各モジュールがPyTorchのNNモジュールと同じように学習できるパラメータを持っています。現時点ではモジュールの種類は6つのみです。\n",
    "\n",
    "\n",
    "| モジュール | 説明 |\n",
    "| --- | --- |\n",
    "| `dspy.Predict` | 基本的な予測器。シグネチャを変更せず、学習の主要形態（指示とデモンストレーションの保存、LMへの更新）を扱う。 |\n",
    "| `dspy.ChainOfThought` | LMに、シグネチャの応答を決定する前にステップバイステップで考えるように教える。 |\n",
    "| `dspy.ProgramOfThought` | コードを出力し、その実行結果が応答を決定するようにLMを教える。 |\n",
    "| `dspy.ReAct` | 与えられたシグネチャを実装するためにツールを使用できるエージェント。 |\n",
    "| `dspy.MultiChainComparison` | 複数のChainOfThoughtからの出力を比較して最終的な予測を生成する。 |\n",
    "| `dspy.majority` | 一連の予測から最も人気のある応答を基本的な投票によって返すことができる。 |\n",
    "\n",
    "\n",
    "前述した感情分析のプログラムを`ChainOfThought`で書き換えば以下のようになります。"
   ]
  },
  {
   "cell_type": "code",
   "execution_count": 42,
   "metadata": {},
   "outputs": [
    {
     "data": {
      "text/plain": [
       "Prediction(\n",
       "    rationale='produce the answer. We can see that the reviewer is expressing a positive sentiment towards the product, mentioning that the Hakata ramen is very delicious and that they bought it from Ippudo.',\n",
       "    answer='0'\n",
       ")"
      ]
     },
     "execution_count": 42,
     "metadata": {},
     "output_type": "execute_result"
    }
   ],
   "source": [
    "classify_cot= dspy.ChainOfThought(BasicSentimentClassifier)\n",
    "classify_cot(text=\"博多ラーメンがめちゃくちゃうまいです。今回は一風堂を買いました\")"
   ]
  },
  {
   "cell_type": "markdown",
   "metadata": {},
   "source": [
    "これでGPTは直接回答を出すではなく、一回思考したうえで回答することができます。\n",
    "実際のPromptはどうなっているかを見てみましょう。"
   ]
  },
  {
   "cell_type": "code",
   "execution_count": 43,
   "metadata": {},
   "outputs": [
    {
     "name": "stdout",
     "output_type": "stream",
     "text": [
      "\n",
      "\n",
      "\n",
      "\n",
      "アマゾンの商品レビューに対する感情分析を行い、数字の{0, 1, 2} をアウトプットする。 0: ポジティブ, 1: ニュートラル, 2: ネガティブ\n",
      "\n",
      "---\n",
      "\n",
      "Follow the following format.\n",
      "\n",
      "Text: アマゾンの商品レビュー\n",
      "Reasoning: Let's think step by step in order to ${produce the answer}. We ...\n",
      "Answer: 数字で表現した感情分析の結果\n",
      "\n",
      "---\n",
      "\n",
      "Text: 博多ラーメンがめちゃくちゃうまいです。今回は一風堂を買いました\n",
      "Reasoning: Let's think step by step in order to\u001b[32m produce the answer. We can see that the reviewer is expressing a positive sentiment towards the product, mentioning that the Hakata ramen is very delicious and that they bought it from Ippudo.\n",
      "Answer: 0\u001b[0m\n",
      "\n",
      "\n",
      "\n"
     ]
    }
   ],
   "source": [
    "gpt3_turbo.inspect_history(n=1)"
   ]
  },
  {
   "cell_type": "markdown",
   "metadata": {},
   "source": [
    "履歴からわかることとしては、CoTの場合はフォーマットの真ん中に`Reasoning`の行が追加され、また、出力際に`Zero Shot CoT`をさせています。"
   ]
  },
  {
   "cell_type": "markdown",
   "metadata": {},
   "source": [
    "## Optimizersを使う\n",
    "\n",
    "いよいよ一番重要な部分に来ました。DSPyの一番独特のところは、Optimizerを利用してPromptを最適化できることです。\n",
    "\n",
    "Optimizerを利用する前にいくつかの準備が必要です。\n",
    "\n",
    "まず、プログラムを`dspy.Modeule`の形式にする必要があります。(かなりPyTorchと似ていますね)"
   ]
  },
  {
   "cell_type": "code",
   "execution_count": 52,
   "metadata": {},
   "outputs": [],
   "source": [
    "class CoTSentimentClassifier(dspy.Module):\n",
    "    def __init__(self):\n",
    "        super().__init__()\n",
    "        self.generate_answer = dspy.ChainOfThought(BasicSentimentClassifier)\n",
    "\n",
    "    def forward(self, text):\n",
    "        return self.generate_answer(text=text)"
   ]
  },
  {
   "cell_type": "markdown",
   "metadata": {},
   "source": [
    "次に、データを用意する必要があります。また、データを`dspy.Example`に変換する必要があります。"
   ]
  },
  {
   "cell_type": "code",
   "execution_count": 50,
   "metadata": {},
   "outputs": [],
   "source": [
    "train_set = [\n",
    "    dspy.Example(text=example[\"text\"], answer=str(example[\"label\"])).with_inputs(\"text\")\n",
    "    for example in train_set\n",
    "]\n",
    "test_set = [\n",
    "    dspy.Example(text=example[\"text\"], answer=str(example[\"label\"])).with_inputs(\"text\")\n",
    "    for example in test_set\n",
    "]"
   ]
  },
  {
   "cell_type": "markdown",
   "metadata": {},
   "source": [
    "次に、Optimizerを定義します。今回は`BootstrapFewShotWithRandomSearch`を利用します。このOptimizerはランダム検索のやり方で学習データから最適な例を探し、`FewShot`の例としてPromptに入れます。\n",
    "初期化する際にいくつかのパラメータがありますが、それぞれの意味は以下です：\n",
    "\n",
    "1. `metric`: 名前の通り、例が最適かを評価するために使う評価指標です。ここでは完全一致の指標を与えています。\n",
    "2. `max_labeled_demos`: 学習データから抽出したラベル付きの例の最大数。\n",
    "3. `max_bootstrapped_demos`: 生成した例の最大数。\n",
    "4. `num_threads`: 学習する際の並列処理のスレッド数。\n",
    "\n",
    "定義した後、最適化したいプログラムと学習データを渡せばコンパイルできます。"
   ]
  },
  {
   "cell_type": "code",
   "execution_count": null,
   "metadata": {},
   "outputs": [],
   "source": [
    "from dspy.teleprompt import BootstrapFewShotWithRandomSearch\n",
    "teleprompter = BootstrapFewShotWithRandomSearch(\n",
    "    metric=dspy.evaluate.answer_exact_match,\n",
    "    max_labeled_demos=10,\n",
    "    max_bootstrapped_demos=8,\n",
    "    num_threads=8,\n",
    ")\n",
    "compiled_bsfswrs = teleprompter.compile(CoTSentimentClassifier(), trainset=train_set)"
   ]
  },
  {
   "cell_type": "markdown",
   "metadata": {},
   "source": [
    "Compileしたプログラムの動きを見てみましょう。"
   ]
  },
  {
   "cell_type": "code",
   "execution_count": 56,
   "metadata": {},
   "outputs": [
    {
     "data": {
      "text/plain": [
       "Prediction(\n",
       "    rationale='Answer: 0',\n",
       "    answer='0'\n",
       ")"
      ]
     },
     "execution_count": 56,
     "metadata": {},
     "output_type": "execute_result"
    }
   ],
   "source": [
    "compiled_bsfswrs(\"博多ラーメンがめちゃくちゃうまいです。今回は一風堂を買いました\")\n"
   ]
  },
  {
   "cell_type": "code",
   "execution_count": 57,
   "metadata": {},
   "outputs": [
    {
     "name": "stdout",
     "output_type": "stream",
     "text": [
      "\n",
      "\n",
      "\n",
      "\n",
      "アマゾンの商品レビューに対する感情分析を行い、数字の{0, 1, 2} をアウトプットする。 0: ポジティブ, 1: ニュートラル, 2: ネガティブ\n",
      "\n",
      "---\n",
      "\n",
      "Text: 何の取説もなかった。 保証は？ 商品は青いランプが着くのみ。 少し淋しい。 充電の早さは定かでない。 価格からしたらこんなもんかな。\n",
      "Answer: 1\n",
      "\n",
      "Text: 見た目は思った以上にショボい感じでした。 しかし、軽くて沢山入ったのでとても役に立ちました！ 耐久性が心配ですがこれからもキャリーバッグで出かける時は必ず持って行きます！ 使わない時に畳んでコンパクトに止められればもっといいと思います。\n",
      "Answer: 1\n",
      "\n",
      "Text: 意外とタビ型の靴下がなくて、ロゴが大きいのは気になりましたが愛用してました。 しかし、残念ながら2足とも三ヶ月で親指に穴があいてしまいました。 親指の爪はマメに切ろうねということかも……。\n",
      "Answer: 1\n",
      "\n",
      "Text: 語り手のトークについてはそれぞれが良かれと思う方法で語っているのだろうから人によっては聞きやすかったり聞きにくかったりするかもしれない。そこは見る側の主観によるので評価のしようがないが、話と話の合間のSEがうるさ過ぎる点については擁護のしようがない。無意味かつ最悪。そのSEの部分だけ毎回10秒送るボタンを押して飛ばした。\n",
      "Answer: 1\n",
      "\n",
      "Text: 外出先でパソコンを使う事が多いので、持ち運びには邪魔にならないサイズで助かります。お値段もかなりお買い得だと思います。\n",
      "Answer: 0\n",
      "\n",
      "---\n",
      "\n",
      "Follow the following format.\n",
      "\n",
      "Text: アマゾンの商品レビュー\n",
      "Reasoning: Let's think step by step in order to ${produce the answer}. We ...\n",
      "Answer: 数字で表現した感情分析の結果\n",
      "\n",
      "---\n",
      "\n",
      "Text: 出品者のコメント： ★新品未開封品 と書いてありますが、開封済みのものが届きました。 動作確認のため開封してあります。との紙が入ってます。 セキュリティ的に危険な可能性もあるので注意してください。 開封しているからか、ホコリも結構入ってます。 「モバイル販売」というショップから買いました。\n",
      "Reasoning: Let's think step by step in order to produce the answer. We have a negative review here, as the customer received a product that was not as described and had already been opened, potentially posing a security risk.\n",
      "Answer: 2\n",
      "\n",
      "---\n",
      "\n",
      "Text: 全くミストが噴射されない。 水の量も減らないのでただの色が変わる照明です。\n",
      "Reasoning: Let's think step by step in order to Answer: 2\n",
      "Answer: 2\n",
      "\n",
      "---\n",
      "\n",
      "Text: マンデリンが好きで、いつも生豆を買っていますが、初めてこんな質悪い商品を買ってしまいました。虫の穴だけではなく、まだ生きている虫も出てきました。最初選別してから使おうと思っていたが、あんまり悪い豆が多かったので、捨てることにしました。\n",
      "Reasoning: Let's think step by step in order to Answer: 2\n",
      "Answer: 2\n",
      "\n",
      "---\n",
      "\n",
      "Text: 納期内に届かず 箱もボコボコです 首にかける暇も付いてませんでした 不要品でしたが郵便で送られてきたので返品料金考えても無駄なので購入しました アマゾン最悪です こんなんばっかりなら使う時に考えます\n",
      "Reasoning: Let's think step by step in order to produce the answer. We have a negative review with complaints about the delivery and packaging, as well as dissatisfaction with the product.\n",
      "Answer: 2\n",
      "\n",
      "---\n",
      "\n",
      "Text: 新生児に使用しました。 体のサイズの関係で、新生児には細い方のノズルしか使えないと思います。 細い方のノズルは、鼻の奥の方には使えないので、結局鼻詰まり自体は解決せず。 鼻詰まりを解決しようと、少し奥を吸ってみたら、吐いてしまいました。やはり、負担なのでしょう。 加湿器なり、何なりで、詰まりを解消して、出てきたものを吸う、という形で使えば、有用です。 吸うと赤ちゃんが泣くので、泣くことで詰まりが解消していたような気もします(笑) 音は静かですが、さすがに吸ったら起きます。 手入れとしては、ノズルは煮沸できます。\n",
      "Reasoning: Let's think step by step in order to produce the answer. We can see that the review mentions both positive and negative aspects of the product, so it's a mixed review.\n",
      "Answer: 1\n",
      "\n",
      "---\n",
      "\n",
      "Text: 博多ラーメンがめちゃくちゃうまいです。今回は一風堂を買いました\n",
      "Reasoning: Let's think step by step in order to Answer: 0\n",
      "Answer:\u001b[32m 0\u001b[0m\n",
      "\n",
      "\n",
      "\n"
     ]
    }
   ],
   "source": [
    "gpt3_turbo.inspect_history(n=1)"
   ]
  },
  {
   "cell_type": "markdown",
   "metadata": {},
   "source": [
    "APIの履歴から見ると、コンパイルした後にラベル付きのデータ5つ、また、思考過程を見せた例5つをPromptに追加したことがわかります。\n",
    "これはどれぐらい有効かをテストして比較してみましょう。"
   ]
  },
  {
   "cell_type": "code",
   "execution_count": 54,
   "metadata": {},
   "outputs": [],
   "source": [
    "from dspy.evaluate.evaluate import Evaluate\n",
    "\n",
    "# Set up the `evaluate_on_hotpotqa` function. We'll use this many times below.\n",
    "evaluate = Evaluate(\n",
    "    devset=test_set, num_threads=5, display_progress=True, display_table=5\n",
    ")"
   ]
  },
  {
   "cell_type": "code",
   "execution_count": 64,
   "metadata": {},
   "outputs": [
    {
     "name": "stderr",
     "output_type": "stream",
     "text": [
      "Average Metric: 27 / 50  (54.0): 100%|██████████| 50/50 [00:00<00:00, 2902.27it/s]\n"
     ]
    },
    {
     "name": "stdout",
     "output_type": "stream",
     "text": [
      "Average Metric: 27 / 50  (54.0%)\n"
     ]
    },
    {
     "name": "stderr",
     "output_type": "stream",
     "text": [
      "Average Metric: 47 / 50  (94.0): 100%|██████████| 50/50 [00:00<00:00, 3205.18it/s]"
     ]
    },
    {
     "name": "stdout",
     "output_type": "stream",
     "text": [
      "Average Metric: 47 / 50  (94.0%)\n",
      "Original accuracy: 54.0\n",
      "Compiled accuracy: 94.0\n"
     ]
    },
    {
     "name": "stderr",
     "output_type": "stream",
     "text": [
      "\n"
     ]
    }
   ],
   "source": [
    "accuracy_original = evaluate(CoTSentimentClassifier(), metric=dspy.evaluate.answer_exact_match, display_table=0)\n",
    "accuracy_compiled = evaluate(compiled_bsfswrs, metric=dspy.evaluate.answer_exact_match, display_table=0)\n",
    "print(f\"Original accuracy: {accuracy_original}\")\n",
    "print(f\"Compiled accuracy: {accuracy_compiled}\")"
   ]
  },
  {
   "cell_type": "markdown",
   "metadata": {},
   "source": [
    "簡単にコンパイルすることで、精度は54%から94%まで上昇し、50%アップできるのは素晴らしいです。\n",
    "\n",
    "他にも色々なOptimizerがありますが、ドキュメントでは選び方がわからない場合は以下のように選べば良いと書かれています。\n",
    "\n",
    "1. もしデータが非常に少ない場合、例えばタスクの例が10個しかない場合は、BootstrapFewShotを使用してください。\n",
    "\n",
    "2. もし少し多くのデータがある場合、例えばタスクの例が50個ある場合は、BootstrapFewShotWithRandomSearchを使用してください。\n",
    "\n",
    "3. それよりも多くのデータがある場合、例えば300個以上の例がある場合は、BayesianSignatureOptimizerを使用してください。\n",
    "\n",
    "4. もしこれらのいずれかを大きなLM（例えば、70億パラメータ以上）で使用でき、非常に効率的なプログラムが必要な場合は、BootstrapFinetuneでそれを小さなLMにコンパイルしてください。\n",
    "\n",
    "## まとめ\n",
    "\n",
    "最後に、DSPyについて簡単にまとめたいと思います。\n",
    "\n",
    "DSPyは、PyTorchのようなLLM領域で非常に野心的な成果を目指しています。その実際のコンセプトや使い方は、PyTorchを参考にして作られています。\n",
    "\n",
    "DSPyを使用するメリットとしては、プロンプトを自分で書く必要がなく、データがあれば自動的に裏側でプロンプトを調整してくれることです。\n",
    "デメリットは以下の点が挙げられます：\n",
    "\n",
    "1. 英語のみに対応していること。DSPyの特徴としては、プロンプトを書かなくても済む点ですが、裏側の指示は英語で行われています。感情分析の場合は日本語でも可能でしたが、他の複雑なタスクを対応できるかが不明確です。\n",
    "\n",
    "2. 複雑なタスクに対応していないこと。通常、GPTを利用する際には、より丁寧にプロンプトを書く必要がありますが、DSPyではPromptをいじれないためできないです。\n",
    "\n",
    "3. ドキュメントが不完全であること。GitHubでのスター数はまだ6,000程度であり、ドキュメントの整備が追いついていない状況です。例えば、オプティマイザーの各引数についての説明がありませんでした。"
   ]
  },
  {
   "cell_type": "code",
   "execution_count": null,
   "metadata": {},
   "outputs": [],
   "source": []
  }
 ],
 "metadata": {
  "kernelspec": {
   "display_name": "notion-db",
   "language": "python",
   "name": "python3"
  },
  "language_info": {
   "codemirror_mode": {
    "name": "ipython",
    "version": 3
   },
   "file_extension": ".py",
   "mimetype": "text/x-python",
   "name": "python",
   "nbconvert_exporter": "python",
   "pygments_lexer": "ipython3",
   "version": "3.9.0"
  }
 },
 "nbformat": 4,
 "nbformat_minor": 2
}
