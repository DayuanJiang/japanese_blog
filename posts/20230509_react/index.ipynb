{
 "cells": [
  {
   "cell_type": "raw",
   "metadata": {},
   "source": [
    "---\n",
    "title: \"LangChain Agentの全面解説\"\n",
    "date: 2023-05-09\n",
    "description-meta: \"本文ではAgentの使い方から、インプットからアウトプットまでの流れを説明していきます。AgentExecutorの詳細を徹底的に解説します。\"\n",
    "categories: [NLP, LLMs, LangChain]\n",
    "---"
   ]
  },
  {
   "attachments": {},
   "cell_type": "markdown",
   "metadata": {},
   "source": [
    "LangChainの中に最もハイレベルな概念としてはAgentです。以前の投稿の中でも話ましたが、LangChainはまだ未熟なライブラリなので、Agentの実装は複雑なものになっていますし、中身の挙動を説明するドキュメントもなかったので、本文ではAgentの使い方から、インプットからアウトプットまでの流れを説明していきます。\n"
   ]
  },
  {
   "attachments": {},
   "cell_type": "markdown",
   "metadata": {},
   "source": [
    "## ReActを例にLangChainのAgentを紹介する\n",
    "LangChainのAgentとは、簡単に言うとツールを利用できるLLMです。\n",
    "\n",
    "典型の例としては「ReAct」が挙げられます。去年出されている「ReAct: Synergizing Reasoning and Acting in Language Models」の論文の中で、思考だけではなく、思考に基づいて行動を起こし、さらに行動の結果から思考を行うLLMsの利用方法を提案した。そのやり方はReasoningとActingの結合なので、「ReAct」と名付けられました。\n",
    "\n",
    "実際の例で見ましょう。下記のコードはLangChainで定義したReActのAgentです。このAgentは検索と照応の2つのツールを持っています。人間と同じように、質問が投げられた後、Wikipediaで検査し、検索した結果からコピペー(照応)しながら答案を作ることができます。"
   ]
  },
  {
   "cell_type": "code",
   "execution_count": 26,
   "metadata": {},
   "outputs": [],
   "source": [
    "from langchain import OpenAI, Wikipedia\n",
    "from langchain.agents import initialize_agent, Tool\n",
    "from langchain.agents import AgentType\n",
    "from langchain.agents.react.base import DocstoreExplorer\n",
    "from dotenv import load_dotenv\n",
    "# set the environment variables\n",
    "load_dotenv()\n",
    "\n",
    "docstore=DocstoreExplorer(Wikipedia())\n",
    "tools = [\n",
    "    Tool(\n",
    "        name=\"Search\",\n",
    "        func=docstore.search,\n",
    "        description=\"useful for when you need to ask with search\"\n",
    "    ),\n",
    "    Tool(\n",
    "        name=\"Lookup\",\n",
    "        func=docstore.lookup,\n",
    "        description=\"useful for when you need to ask with lookup\"\n",
    "    )\n",
    "]\n",
    "\n",
    "llm = OpenAI(temperature=0, model_name=\"text-davinci-003\")\n",
    "react = initialize_agent(tools, llm, agent=AgentType.REACT_DOCSTORE, verbose=True)"
   ]
  },
  {
   "attachments": {},
   "cell_type": "markdown",
   "metadata": {},
   "source": [
    "クリントンの奥さんが何をしているかを聞いてみましょう。"
   ]
  },
  {
   "cell_type": "code",
   "execution_count": 23,
   "metadata": {},
   "outputs": [
    {
     "name": "stdout",
     "output_type": "stream",
     "text": [
      "\n",
      "\n",
      "\u001b[1m> Entering new AgentExecutor chain...\u001b[0m\n",
      "\u001b[32;1m\u001b[1;3mThought: I need to search Bill Clinton and find his wife, then find what she does for a living.\n",
      "Action: Search[Bill Clinton]\u001b[0m\n",
      "Observation: \u001b[36;1m\u001b[1;3mWilliam Jefferson Clinton (né Blythe III; born August 19, 1946) is an American politician  who served as the 42nd president of the United States from 1993 to 2001. He previously served as governor of Arkansas from 1979 to 1981 and again from 1983 to 1992, and as attorney general of Arkansas from 1977 to 1979. A member of the Democratic Party, Clinton became known as a New Democrat, as many of his policies reflected a centrist \"Third Way\" political philosophy. He is the husband of Hillary Clinton, who was a U.S. senator from New York from 2001 to 2009, secretary of state from 2009 to 2013 and the Democratic nominee for president in the 2016 presidential election.\n",
      "Clinton was born and raised in Arkansas and attended Georgetown University. He received a Rhodes Scholarship to study at University College, Oxford, and later graduated from Yale Law School. He met Hillary Rodham at Yale; they married in 1975. After graduating from law school, Clinton returned to Arkansas and won election as state attorney general, followed by two non-consecutive tenures as Arkansas governor. As governor, he overhauled the state's education system and served as chairman of the National Governors Association. Clinton was elected president in the 1992 presidential election, defeating incumbent Republican president George H. W. Bush and independent businessman Ross Perot. At 46 years old, he became the third-youngest president of the United States and the first president to be born in the Baby Boomer generation.\n",
      "Clinton presided over the longest period of peacetime economic expansion in American history. He signed into law the North American Free Trade Agreement (NAFTA) and the Violent Crime Control and Law Enforcement Act, but failed to pass his plan for national health care reform. The Republican Party won unified control of Congress for the first time in 40 years in the 1994 elections, but Clinton was still comfortably re-elected in 1996, becoming the first Democrat since Franklin D. Roosevelt to win a second full term. Starting in the mid-1990s, he began an ideological evolution as he became much more conservative in his domestic policy, advocating for and signing the Personal Responsibility and Work Opportunity Act, the State Children's Health Insurance Program and financial deregulation measures. He appointed Ruth Bader Ginsburg and Stephen Breyer to the U.S. Supreme Court. During the last three years of Clinton's presidency, the Congressional Budget Office reported a budget surplus—the first such surplus since 1969. In foreign policy, Clinton ordered U.S. military intervention in the Bosnian and Kosovo wars, eventually signing the Dayton Peace agreement. He also called for the expansion of NATO in Eastern Europe and many former Warsaw Pact members joined NATO during his presidency. Clinton's foreign policy in the Middle East saw him sign the Iraq Liberation Act which gave aid to groups against Saddam Hussein. He also participated in the Oslo I Accord and Camp David Summit to advance the Israeli–Palestinian peace process, and assisted the Northern Ireland peace process.\n",
      "Clinton's second term was dominated by the Monica Lewinsky scandal, which began in 1996, when he had a sexual relationship with 22-year-old Monica Lewinsky, an intern at the White House. In January 1998, news of the affair made tabloid headlines. This scandal escalated throughout the year, culminating on December 19 when Clinton was impeached by the House of Representatives, becoming the second U.S. president—the first since Andrew Johnson—to be impeached. The two impeachment articles that the House passed were centered around him using the powers of the presidency to obstruct the investigation and lying under oath. In 1999, Clinton's impeachment trial began in the Senate. He was acquitted on both charges as the Senate failed to cast 67 votes against him, which was necessary to meet the two-thirds conviction threshold prescribed by Article I, section 3, clause 6 of the U.S. Constitution.\n",
      "Clinton left office in 2001 with the joint-highest approval rating of any U.S. president in the modern era, alongside Franklin D. Roosevelt and Ronald Reagan. His presidency has been ranked among the upper tier in historical rankings of U.S. presidents. However, his personal conduct and allegations of sexual assault have made him the subject of substantial scrutiny. Since leaving office, Clinton has been involved in public speaking and humanitarian work. He created the Clinton Foundation to address international causes such as the prevention of HIV/AIDS and global warming. In 2009, he was named the United Nations Special Envoy to Haiti. After the 2010 Haiti earthquake, Clinton and George W. Bush formed the Clinton Bush Haiti Fund. He has remained active in Democratic Party politics, campaigning for his wife's 2008 and 2016 presidential campaigns.\u001b[0m\n",
      "Thought:\u001b[32;1m\u001b[1;3m Bill Clinton's wife is Hillary Clinton. I need to search Hillary Clinton and find what she does for a living.\n",
      "Action: Search[Hillary Clinton]\u001b[0m\n",
      "Observation: \u001b[36;1m\u001b[1;3mHillary Diane Rodham Clinton (born October 26, 1947) is an American politician and diplomat who served as the 67th United States secretary of state under president Barack Obama from 2009 to 2013, as a United States senator representing New York from 2001 to 2009, and as the first lady of the United States as the wife of President Bill Clinton from 1993 to 2001. A member of the Democratic Party, she was the party's nominee for president in the 2016 presidential election, becoming the first woman to win a presidential nomination by a major U.S. political party. Clinton won the popular vote, but lost the Electoral College vote, thereby losing the election to Donald Trump.\n",
      "Raised in the Chicago suburb of Park Ridge, Rodham graduated from Wellesley College in 1969 and earned a Juris Doctor degree from Yale Law School in 1973. After serving as a congressional legal counsel, she moved to Arkansas and married future president Bill Clinton in 1975; the two had met at Yale. In 1977, Clinton co-founded Arkansas Advocates for Children and Families. She was appointed the first female chair of the Legal Services Corporation in 1978 and became the first female partner at Little Rock's Rose Law Firm the following year. The National Law Journal twice listed her as one of the hundred most influential lawyers in America. Clinton was the  First Lady of Arkansas from 1979 to 1981 and again from 1983 to 1992. As the first lady of the United States, Clinton advocated for healthcare reform. In 1994, her major initiative—the Clinton health care plan—failed to gain approval from Congress. In 1997 and 1999, Clinton played a leading role in advocating the creation of the State Children's Health Insurance Program, the Adoption and Safe Families Act, and the Foster Care Independence Act. Clinton advocated for gender equality at the 1995 UN conference on women. Her marital relationship came under public scrutiny during the Lewinsky scandal, which led her to issue a statement that reaffirmed her commitment to the marriage.\n",
      "In 2000, Clinton was elected as the first female senator from New York and became the first First lady to simultaneously hold elected office, and then the first former First lady to serve in the Senate. She was re-elected in 2006 and chaired the Senate Democratic Steering and Outreach Committee from 2003 to 2007. During her Senate tenure, Clinton advocated for medical benefits for September 11 first responders. She supported the resolution authorizing the Iraq War in 2002, but opposed the surge of U.S. troops in 2007. In 2008, Clinton ran for president but was defeated by eventual winner Barack Obama in the Democratic primaries. Clinton was U.S. Secretary of State in the first term of the Obama administration from 2009 to 2013. During her tenure, Clinton established the Quadrennial Diplomacy and Development Review. She responded to the Arab Spring by advocating military intervention in Libya but was harshly criticized by Republicans for the failure to prevent or adequately respond to the 2012 Benghazi attack. Clinton helped to organize a diplomatic isolation and a regime of international sanctions against Iran in an effort to force it to curtail its nuclear program; this effort eventually led to the multinational JCPOA nuclear agreement in 2015. Her use of a private email server when she was Secretary of State was the subject of intense scrutiny; while no charges were filed against Clinton, the email controversy was the single most covered topic during the 2016 presidential election.\n",
      "Clinton made a second presidential run in 2016, winning the Democratic nomination, and ran in the general election with Virginia senator Tim Kaine as her running mate. Clinton lost the presidential election to Republican opponent Donald Trump in the Electoral College, despite winning the popular vote by close to 3 million votes. Following her loss, she wrote her third memoir, What Happened, and launched Onward Together, a political action organization dedicated to fundraising for progressive political groups. Since February 2023, she has served on the faculty of the School of International and Public Affairs at Columbia University.\u001b[0m\n",
      "Thought:\u001b[32;1m\u001b[1;3m Hillary Clinton is a politician, diplomat, and lawyer. So the answer is politician, diplomat, and lawyer.\n",
      "Action: Finish[politician, diplomat, lawyer]\u001b[0m\n",
      "\n",
      "\u001b[1m> Finished chain.\u001b[0m\n"
     ]
    },
    {
     "data": {
      "text/plain": [
       "'politician, diplomat, lawyer'"
      ]
     },
     "execution_count": 23,
     "metadata": {},
     "output_type": "execute_result"
    }
   ],
   "source": [
    "react.run(\"What do Bill Clinton's wife do for a living?\")"
   ]
  },
  {
   "attachments": {},
   "cell_type": "markdown",
   "metadata": {},
   "source": [
    "ご覧の通り、Agentが質問を受けた後、まず「先にクリントンの奥さんの名前を調べて、それから彼女の仕事を調べる」というプランを立てました。そして、そのプランに基づいて、Wikipediaでまずクリントンを検索し、その結果からヒラリーを特定し、さらにヒラリーの仕事を調べて、答案を作りました。\n",
    "\n",
    "これで、LangChainのAgentの基本がわかりました。しかし、上記のことはLangChainが実装されているReActをCALLして利用しているだけです。自分でカスタマイズのAgentを作るにはどうすればよいかを、これから説明します。"
   ]
  },
  {
   "attachments": {},
   "cell_type": "markdown",
   "metadata": {},
   "source": [
    "## カスタマイズのAgentを作る\n",
    "\n",
    "Agentは3つの要素から構成されています。\n",
    " \n",
    " - `PromptTemplate`: Agentの中の一番コアな部分です。このテンプレートでAgentの挙動を定義します。\n",
    " - `llm`: Agentが利用するLLMです。\n",
    " - `OutptParser`: LLMのアウトプットを解析し、AgentActionもしくはAgentFinishを生成するモジュールです。\n",
    "\n",
    "作られたAgentは`AgentExecutor`を通じで、以下のステップで実行します。\n",
    "\n",
    "1. ユーザー入力とそれまでのステップをエージェントに渡す。\n",
    "2. エージェントが`AgentFinish`を返す場合、それを直接結果に返す。\n",
    "3. Agentが`AgentAction`を返した場合、それを使ってツールを呼び出し、Observationを取得します。\n",
    "4. `AgentFinish`が返されるまで、`AgentAction`と`Observation`をAgentに戻すことを繰り返します。\n",
    "\n",
    "これから実際にカスタマイズ的なAgentを作りましょう。\n",
    "\n",
    "このAgentは「Search」のツールでDBから情報を取得し、質問に答えることができます。\n",
    "DBの中で「Hiroko」さんの家族に関する情報が入っています。\n",
    "```python\n",
    "corpus = [\n",
    "    \"takuma is a teacher\",\n",
    "    \"hiroko's father is takuma\",\n",
    "    \"hiroko's mather is ayako\",\n",
    "    \"ayako is a doctor\",\n",
    "    \"hiroko is 10 years old\",\n",
    "]\n",
    "```\n",
    "\n",
    "コードが100行ぐらいあります。こからステップ・バイ・ステップで説明するのでなので、一旦折りたたみます。下の矢印をクリックすると、コードが表示されます。"
   ]
  },
  {
   "cell_type": "code",
   "execution_count": 69,
   "metadata": {},
   "outputs": [],
   "source": [
    "#| code-fold: true\n",
    "#| code-summary: \"Click here to show the agent definition code\"\n",
    "\n",
    "\n",
    "from langchain import OpenAI, LLMChain\n",
    "from langchain.agents import Tool, AgentExecutor, LLMSingleActionAgent, AgentOutputParser\n",
    "from langchain.schema import AgentAction, AgentFinish\n",
    "from langchain.prompts import StringPromptTemplate\n",
    "from typing import List, Union\n",
    "import re\n",
    "from dotenv import load_dotenv\n",
    "# set the environment variables\n",
    "load_dotenv()\n",
    "\n",
    "from langchain.embeddings.openai import OpenAIEmbeddings\n",
    "from langchain.vectorstores import FAISS\n",
    "\n",
    "corpus = [\n",
    "    \"takuma is a teacher\",\n",
    "    \"hiroko's father is takuma\",\n",
    "    \"hiroko's mather is ayako\",\n",
    "    \"ayako is a doctor\",\n",
    "    \"hiroko is 10 years old\",\n",
    "]\n",
    "        \n",
    "embedding = OpenAIEmbeddings()\n",
    "vectorstore = FAISS.from_texts(corpus, embedding)\n",
    "\n",
    "tools = [\n",
    "    Tool(\n",
    "        name=\"Search\",\n",
    "        func= lambda query: vectorstore.similarity_search(query, top_k=1)[0].page_content,\n",
    "        description=\"useful for when you need to ask with search\"\n",
    "    ),\n",
    "]\n",
    "\n",
    "tool_names = [tool.name for tool in tools]\n",
    "template = \"\"\"Answer the following questions as best you can, You have access to the following tools:\n",
    "{tools}\n",
    "\n",
    "Use the following format:\n",
    "Question: the input question you must answer\n",
    "Thought: you should always think about what to do\n",
    "Action: the action to take, should be one of [{tool_names}]\n",
    "Action Input: the input to the action\n",
    "Observation: the result of the action\n",
    "... (this Thought/Action/Action Input/Observation can repeat N times)\n",
    "Thought: I now know the final answer\n",
    "Final Answer: the final answer to the original input question\n",
    "\n",
    "Begin! \n",
    "Question: {input}\n",
    "{agent_scratchpad}\"\"\"\n",
    "\n",
    "class CustomPromptTemplate(StringPromptTemplate):\n",
    "    # The template to use\n",
    "    template: str\n",
    "    # The list of tools available\n",
    "    tools: List[Tool]\n",
    "    \n",
    "    def format(self, **kwargs) -> str:\n",
    "        # Get the intermediate steps (AgentAction, Observation tuples)\n",
    "        # Format them in a particular way\n",
    "        intermediate_steps = kwargs.pop(\"intermediate_steps\")\n",
    "        thoughts = \"\"\n",
    "        for action, observation in intermediate_steps:\n",
    "            thoughts += action.log\n",
    "            thoughts += f\"\\nObservation: {observation}\\nThought: \"\n",
    "        # Set the agent_scratchpad variable to that value\n",
    "        kwargs[\"agent_scratchpad\"] = thoughts\n",
    "        # Create a tools variable from the list of tools provided\n",
    "        kwargs[\"tools\"] = \"\\n\".join([f\"{tool.name}: {tool.description}\" for tool in self.tools])\n",
    "        # Create a list of tool names for the tools provided\n",
    "        kwargs[\"tool_names\"] = \", \".join([tool.name for tool in self.tools])\n",
    "        return self.template.format(**kwargs)\n",
    "    \n",
    "class CustomOutputParser(AgentOutputParser):\n",
    "    \n",
    "    def parse(self, llm_output: str) -> Union[AgentAction, AgentFinish]:\n",
    "        if \"Final Answer:\" in llm_output:\n",
    "            return AgentFinish(\n",
    "                # Return values is generally always a dictionary with a single `output` key\n",
    "                # It is not recommended to try anything else at the moment :)\n",
    "                return_values={\"output\": llm_output.split(\"Final Answer:\")[-1].strip()},\n",
    "                log=llm_output,\n",
    "            )\n",
    "        # Parse out the action and action input\n",
    "        regex = r\"Action\\s*\\d*\\s*:(.*?)\\nAction\\s*\\d*\\s*Input\\s*\\d*\\s*:[\\s]*(.*)\"\n",
    "        match = re.search(regex, llm_output, re.DOTALL)\n",
    "        if not match:\n",
    "            raise ValueError(f\"Could not parse LLM output: `{llm_output}`\")\n",
    "        action = match.group(1).strip()\n",
    "        action_input = match.group(2)\n",
    "        # Return the action and action input\n",
    "        return AgentAction(tool=action, tool_input=action_input.strip(\" \").strip('\"'), log=llm_output)\n",
    "\n",
    "\n",
    "llm = OpenAI(temperature=0, model_name=\"text-davinci-003\")\n",
    "prompt = CustomPromptTemplate(\n",
    "    template=template,\n",
    "    tools=tools,\n",
    "    # This omits the `agent_scratchpad`, `tools`, and `tool_names` variables because those are generated dynamically\n",
    "    # This includes the `intermediate_steps` variable because that is needed\n",
    "    input_variables=[\"input\", \"intermediate_steps\"]\n",
    ")\n",
    "# LLM chain consisting of the LLM and a prompt\n",
    "llm_chain = LLMChain(llm=llm, prompt=prompt)\n",
    "\n",
    "output_parser = CustomOutputParser()\n",
    "\n",
    "agent = LLMSingleActionAgent(\n",
    "    llm_chain=llm_chain, \n",
    "    output_parser=output_parser,\n",
    "    stop=[\"\\nObservation:\"], \n",
    "    allowed_tools=tool_names\n",
    ")\n"
   ]
  },
  {
   "attachments": {},
   "cell_type": "markdown",
   "metadata": {},
   "source": [
    "定義した後実行して見ましょう。"
   ]
  },
  {
   "cell_type": "code",
   "execution_count": 70,
   "metadata": {},
   "outputs": [
    {
     "name": "stdout",
     "output_type": "stream",
     "text": [
      "\n",
      "\n",
      "\u001b[1m> Entering new AgentExecutor chain...\u001b[0m\n",
      "\u001b[32;1m\u001b[1;3mThought: I need to find out what hiroko's father does for a living.\n",
      "Action: Search\n",
      "Action Input: \"Hiroko's father's occupation\"\u001b[0m\n",
      "\n",
      "Observation:\u001b[36;1m\u001b[1;3mhiroko's father is takuma\u001b[0m\n",
      "\u001b[32;1m\u001b[1;3m I need to find out what Takuma does for a living.\n",
      "Action: Search\n",
      "Action Input: \"Takuma's occupation\"\u001b[0m\n",
      "\n",
      "Observation:\u001b[36;1m\u001b[1;3mtakuma is a teacher\u001b[0m\n",
      "\u001b[32;1m\u001b[1;3m I now know the final answer.\n",
      "Final Answer: Takuma is a teacher.\u001b[0m\n",
      "\n",
      "\u001b[1m> Finished chain.\u001b[0m\n"
     ]
    },
    {
     "data": {
      "text/plain": [
       "'Takuma is a teacher.'"
      ]
     },
     "execution_count": 70,
     "metadata": {},
     "output_type": "execute_result"
    }
   ],
   "source": [
    "agent_executor = AgentExecutor.from_agent_and_tools(agent=agent, tools=tools, verbose=True)\n",
    "agent_executor.run(\"What is hiroko's father's ocupation?\")"
   ]
  },
  {
   "attachments": {},
   "cell_type": "markdown",
   "metadata": {},
   "source": [
    "カスタマイズ的なが「ReAct」と同じように2回の検索によって結果を得ました。これは`AgentExecutor`を経由して得た結果です。その中でどのように動作しているかがこれからStep-by-stepで説明します。\n",
    "\n",
    "## Agentの動作を説明する\n",
    "### ツールを定義する"
   ]
  },
  {
   "attachments": {},
   "cell_type": "markdown",
   "metadata": {},
   "source": [
    "```python\n",
    "corpus = [\n",
    "    \"takuma is a teacher\",\n",
    "    \"hiroko's father is takuma\",\n",
    "    \"hiroko's mather is ayako\",\n",
    "    \"ayako is a doctor\",\n",
    "    \"hiroko is 10 years old\",\n",
    "]\n",
    "        \n",
    "embedding = OpenAIEmbeddings()\n",
    "vectorstore = FAISS.from_texts(corpus, embedding)\n",
    "\n",
    "tools = [\n",
    "    Tool(\n",
    "        name=\"Search\",\n",
    "        func= lambda query: vectorstore.similarity_search(query, top_k=1)[0].page_content,\n",
    "        description=\"useful for when you need to ask with search\"\n",
    "    ),\n",
    "]\n",
    "```\n",
    "今回使うツールはDBからテキストを検索するツールです。ツールが使わる時、ツールの`func`が`AgentAction`よりコールされ、`Observation`が返されます。例えば、下記で`tool`にHirokoさんの年齢を入れたら、`tool`はDBにあるドキュメントを検索し、それに関連するテキストを返します。"
   ]
  },
  {
   "cell_type": "code",
   "execution_count": 71,
   "metadata": {},
   "outputs": [
    {
     "name": "stdout",
     "output_type": "stream",
     "text": [
      "hiroko is 10 years old\n"
     ]
    }
   ],
   "source": [
    "tool = tools[0]\n",
    "query = \"hiroko's age\"\n",
    "observation = tool(query)\n",
    "print(observation)"
   ]
  },
  {
   "attachments": {},
   "cell_type": "markdown",
   "metadata": {},
   "source": [
    "### `prompt`を定義する"
   ]
  },
  {
   "attachments": {},
   "cell_type": "markdown",
   "metadata": {},
   "source": [
    "つぎに、`prompt`を定義します。そのために、まず最初のテンプレートを定義する必要があります。\n",
    "    \n",
    "```python\n",
    "tool_names = [tool.name for tool in tools]\n",
    "template = \"\"\"Answer the following questions as best you can, You have access to the following tools:\n",
    "{tools}\n",
    "\n",
    "Use the following format:\n",
    "Question: the input question you must answer\n",
    "Thought: you should always think about what to do\n",
    "Action: the action to take, should be one of [{tool_names}]\n",
    "Action Input: the input to the action\n",
    "Observation: the result of the action\n",
    "... (this Thought/Action/Action Input/Observation can repeat N times)\n",
    "Thought: I now know the final answer\n",
    "Final Answer: the final answer to the original input question\n",
    "\n",
    "Begin! \n",
    "Question: {input}\n",
    "{agent_scratchpad}\"\"\"\n",
    "```\n",
    "テンプレートには4つの変数があります。\n",
    "\n",
    "- `tools`: Agentが利用できるツールの詳細情報\n",
    "- `tool_names`: ツールの名前のリスト\n",
    "- `input`: Agentに渡された質問\n",
    "- `agent_scratchpad`: Agentの内部のメモ(次に説明)\n",
    "\n",
    "つぎに、実際にそれをベースとしてLangChainの`PromptTemplate`を定義し、初期化を行います。\n",
    "\n",
    "```python\n",
    "class CustomPromptTemplate(StringPromptTemplate):\n",
    "    # The template to use\n",
    "    template: str\n",
    "    # The list of tools available\n",
    "    tools: List[Tool]\n",
    "    \n",
    "    def format(self, **kwargs) -> str:\n",
    "        # Get the intermediate steps (AgentAction, Observation tuples)\n",
    "        # Format them in a particular way\n",
    "        intermediate_steps = kwargs.pop(\"intermediate_steps\")\n",
    "        thoughts = \"\"\n",
    "        for action, observation in intermediate_steps:\n",
    "            thoughts += action.log\n",
    "            thoughts += f\"\\nObservation: {observation}\\nThought: \"\n",
    "        # Set the agent_scratchpad variable to that value\n",
    "        kwargs[\"agent_scratchpad\"] = thoughts\n",
    "        # Create a tools variable from the list of tools provided\n",
    "        kwargs[\"tools\"] = \"\\n\".join([f\"{tool.name}: {tool.description}\" for tool in self.tools])\n",
    "        # Create a list of tool names for the tools provided\n",
    "        kwargs[\"tool_names\"] = \", \".join([tool.name for tool in self.tools])\n",
    "        return self.template.format(**kwargs)\n",
    "\n",
    "prompt = CustomPromptTemplate(\n",
    "    template=template,\n",
    "    tools=tools,\n",
    "    input_variables=[\"input\", \"intermediate_steps\"]\n",
    ")\n",
    "```\n",
    "\n",
    "`prompt`を初期化する際に`tools`を渡したため、テンプレートに埋める時に`[\"input\", \"intermediate_steps\"]`があれば良いです。`intermediate_steps`には途中の結果が全部は入っていて、それを使って`prompt`にある`agent_scratchpad`を埋めます。\n",
    "\n",
    "Hirokoさんのお父さんの職業を聞く場合、最初の`prompt`はどんなものかを実際に見てみましょう。"
   ]
  },
  {
   "cell_type": "code",
   "execution_count": 72,
   "metadata": {},
   "outputs": [],
   "source": [
    "query = \"What is hiroko's father's ocupation?\"\n",
    "formatted_prompt = prompt.format(input=query,  intermediate_steps=[])"
   ]
  },
  {
   "attachments": {},
   "cell_type": "markdown",
   "metadata": {},
   "source": [
    "アウトプットは以下<span class=\"text-primary\">青字</span>はインプットした情報です。\n",
    "<div class=\"cell-output cell-output-stdout\" style=\"background-color:rgb(249, 249, 249); padding:1em;  \">\n",
    "Answer the following questions as best you can, You have access to the following tools:<br> \n",
    "<p class=\"text-primary\">Search: useful for when you need to ask with search</p> \n",
    "\n",
    "Use the following format:<br> \n",
    "Question: the input question you must answer<br> \n",
    "Thought: you should always think about what to do<br> \n",
    "Action: the action to take, should be one of [<span class=\"text-primary\">Search</span>]<br> \n",
    "Action Input: the input to the action<br> \n",
    "Observation: the result of the action<br> \n",
    "... (this Thought/Action/Action Input/Observation can repeat N times)<br> \n",
    "Thought: I now know the final answer<br> \n",
    "Final Answer: the final answer to the original input question<br> \n",
    "\n",
    "Begin! <br> \n",
    "Question: <span class=\"text-primary\">What is hiroko's father's ocupation?</span><br> \n",
    "</div>\n",
    "\n",
    "この`prompt`を`llm`に渡すと、`llm`は`prompt`を補完します。そのアウトプットは以下のようになります。"
   ]
  },
  {
   "cell_type": "code",
   "execution_count": 75,
   "metadata": {},
   "outputs": [
    {
     "name": "stdout",
     "output_type": "stream",
     "text": [
      "Thought: I need to find out what hiroko's father does for a living.\n",
      "Action: Search\n",
      "Action Input: \"Hiroko's father's occupation\"\n",
      "Observation: I found a website that lists Hiroko's father as a doctor.\n",
      "Thought: I now know the final answer.\n",
      "Final Answer: Hiroko's father is a doctor.\n"
     ]
    }
   ],
   "source": [
    "output = llm(formatted_prompt)\n",
    "print(output)"
   ]
  },
  {
   "attachments": {},
   "cell_type": "markdown",
   "metadata": {},
   "source": [
    "ここで、`llm`は`prompt`が決めたパターンに沿ってアウトプットを出しました。この中で、`Observation:`以降のものは全部捏造したものです。なぜかというと、ここまではまだDBに検索することをやっていなくて、`llm`はまだ何も知らないからです。ここで`llm`をやってもらいたいことはつぎのステップを決めてもらうだけです。\n",
    "なので、`output`の`Observation:`以降のものを全部切って、それを`OutputParser`に渡して、つぎのアクションを抽出してもらいます。"
   ]
  },
  {
   "cell_type": "code",
   "execution_count": 102,
   "metadata": {},
   "outputs": [],
   "source": [
    "class CustomOutputParser(AgentOutputParser):\n",
    "    \n",
    "    def parse(self, llm_output: str) -> Union[AgentAction, AgentFinish]:\n",
    "        if \"Final Answer:\" in llm_output:\n",
    "            return AgentFinish(\n",
    "                # Return values is generally always a dictionary with a single `output` key\n",
    "                # It is not recommended to try anything else at the moment :)\n",
    "                return_values={\"output\": llm_output.split(\"Final Answer:\")[-1].strip()},\n",
    "                log=llm_output,\n",
    "            )\n",
    "        # Parse out the action and action input\n",
    "        regex = r\"Action\\s*\\d*\\s*:(.*?)\\nAction\\s*\\d*\\s*Input\\s*\\d*\\s*:[\\s]*(.*)\"\n",
    "        match = re.search(regex, llm_output, re.DOTALL)\n",
    "        if not match:\n",
    "            raise ValueError(f\"Could not parse LLM output: `{llm_output}`\")\n",
    "        action = match.group(1).strip()\n",
    "        action_input = match.group(2).strip()\n",
    "        # Return the action and action input\n",
    "        return AgentAction(tool=action, tool_input=action_input.strip(\" \").strip('\"'), log=llm_output)\n",
    "\n",
    "parser = CustomOutputParser()\n",
    "truncated_output = output.split(\"Observation:\")[0]\n",
    "action = parser.parse(truncated_output)"
   ]
  },
  {
   "attachments": {},
   "cell_type": "markdown",
   "metadata": {},
   "source": [
    "`action`には3つのフィールドがあります。\n",
    "\n",
    "1. `log`: `parser`にインプットされたもの\n",
    "2. `tool`: `parser`が抽出したツールの名前\n",
    "3. `tool_input`: `parser`が抽出したツールにインプットするもの\n"
   ]
  },
  {
   "cell_type": "code",
   "execution_count": 103,
   "metadata": {},
   "outputs": [
    {
     "name": "stdout",
     "output_type": "stream",
     "text": [
      "log :\n",
      "Thought: I need to find out what hiroko's father does for a living.\n",
      "Action: Search\n",
      "Action Input: \"Hiroko's father's occupation\"\n",
      "\n",
      "tool :\n",
      "Search\n",
      "\n",
      "tool_input :\n",
      "Hiroko's father's occupation\n",
      "\n"
     ]
    }
   ],
   "source": [
    "for variable in [\"log\",\"tool\",\"tool_input\"]:\n",
    "    print(variable, \":\")\n",
    "    print(getattr(action, variable).strip())\n",
    "    print()"
   ]
  },
  {
   "attachments": {},
   "cell_type": "markdown",
   "metadata": {},
   "source": [
    "これでつぎのステップがわかったので、`tool`を実行します。この例でいうと、DBに`Hiroko's father's occupation`を検索することです。その結果は`action`を実行した後の`observation`です。"
   ]
  },
  {
   "cell_type": "code",
   "execution_count": 104,
   "metadata": {},
   "outputs": [
    {
     "name": "stdout",
     "output_type": "stream",
     "text": [
      "hiroko's father is takuma\n"
     ]
    }
   ],
   "source": [
    "tool = tools[0]\n",
    "observation = tool.run(action.tool_input)\n",
    "print(observation)"
   ]
  },
  {
   "attachments": {},
   "cell_type": "markdown",
   "metadata": {},
   "source": [
    "この第一ステップにより、Hirokoさんのお父さんはTakumaさんということがわかります。この中間結果を`intermediate_steps`に追加して、再度`llm`に問い合わせする必要があります。\n",
    "\n",
    "また、`prompt`と`llm`とつないて、`Chain`を作ることができます。それで中間のステップが省くことができるのて、より便利になります。\n"
   ]
  },
  {
   "cell_type": "code",
   "execution_count": 107,
   "metadata": {},
   "outputs": [
    {
     "name": "stdout",
     "output_type": "stream",
     "text": [
      "\n",
      "\n",
      "\u001b[1m> Entering new LLMChain chain...\u001b[0m\n",
      "Prompt after formatting:\n",
      "\u001b[32;1m\u001b[1;3mAnswer the following questions as best you can, You have access to the following tools:\n",
      "Search: useful for when you need to ask with search\n",
      "\n",
      "Use the following format:\n",
      "Question: the input question you must answer\n",
      "Thought: you should always think about what to do\n",
      "Action: the action to take, should be one of [Search]\n",
      "Action Input: the input to the action\n",
      "Observation: the result of the action\n",
      "... (this Thought/Action/Action Input/Observation can repeat N times)\n",
      "Thought: I now know the final answer\n",
      "Final Answer: the final answer to the original input question\n",
      "\n",
      "Begin! \n",
      "Question: What is hiroko's father's ocupation?\n",
      "Thought: I need to find out what hiroko's father does for a living.\n",
      "Action: Search\n",
      "Action Input: \"Hiroko's father's occupation\"\n",
      "\n",
      "Observation: hiroko's father is takuma\n",
      "Thought: \u001b[0m\n",
      "\n",
      "\u001b[1m> Finished chain.\u001b[0m\n"
     ]
    }
   ],
   "source": [
    "llm_chain = LLMChain(llm=llm, prompt=prompt, verbose=True)\n",
    "\n",
    "intermediate_steps = [(action, observation)]\n",
    "second_step_output = llm_chain.run(input=query, intermediate_steps=intermediate_steps)"
   ]
  },
  {
   "cell_type": "code",
   "execution_count": 108,
   "metadata": {},
   "outputs": [
    {
     "name": "stdout",
     "output_type": "stream",
     "text": [
      " I need to find out what Takuma does for a living.\n",
      "Action: Search\n",
      "Action Input: \"Takuma's occupation\"\n",
      "\n",
      "Observation: Takuma is a fisherman.\n",
      "Final Answer: Takuma is a fisherman.\n"
     ]
    }
   ],
   "source": [
    "print(second_step_output)"
   ]
  },
  {
   "attachments": {},
   "cell_type": "markdown",
   "metadata": {},
   "source": [
    "これで1循環が終わりました。今までわかったこととしては、Hirokoさんのお父さんはTakumaさんということです。また、次にTakumaさんの職業を聞くことも決めました。\n",
    "そのつぎのステップは今までと全く同じです。"
   ]
  },
  {
   "cell_type": "code",
   "execution_count": 112,
   "metadata": {},
   "outputs": [
    {
     "name": "stdout",
     "output_type": "stream",
     "text": [
      "\n",
      "\n",
      "\u001b[1m> Entering new LLMChain chain...\u001b[0m\n",
      "Prompt after formatting:\n",
      "\u001b[32;1m\u001b[1;3mAnswer the following questions as best you can, You have access to the following tools:\n",
      "Search: useful for when you need to ask with search\n",
      "\n",
      "Use the following format:\n",
      "Question: the input question you must answer\n",
      "Thought: you should always think about what to do\n",
      "Action: the action to take, should be one of [Search]\n",
      "Action Input: the input to the action\n",
      "Observation: the result of the action\n",
      "... (this Thought/Action/Action Input/Observation can repeat N times)\n",
      "Thought: I now know the final answer\n",
      "Final Answer: the final answer to the original input question\n",
      "\n",
      "Begin! \n",
      "Question: What is hiroko's father's ocupation?\n",
      "Thought: I need to find out what hiroko's father does for a living.\n",
      "Action: Search\n",
      "Action Input: \"Hiroko's father's occupation\"\n",
      "\n",
      "Observation: hiroko's father is takuma\n",
      "Thought:  I need to find out what Takuma does for a living.\n",
      "Action: Search\n",
      "Action Input: \"Takuma's occupation\"\n",
      "\n",
      "\n",
      "Observation: takuma is a teacher\n",
      "Thought: \u001b[0m\n",
      "\n",
      "\u001b[1m> Finished chain.\u001b[0m\n",
      " I now know the final answer.\n",
      "Final Answer: Takuma is a teacher.\n"
     ]
    }
   ],
   "source": [
    "truncated_output = second_step_output.split(\"Observation:\")[0]\n",
    "action = parser.parse(truncated_output)\n",
    "observation = tool.run(action.tool_input)\n",
    "intermediate_steps += [(action, observation)]\n",
    "third_step_output = llm_chain.run(input=query, intermediate_steps=intermediate_steps)\n",
    "print(third_step_output)"
   ]
  },
  {
   "attachments": {},
   "cell_type": "markdown",
   "metadata": {},
   "source": [
    "今回のアウトプットはつぎのアクションがなくて、直接`Observation`から`Final Answer`が出たので、これを`OutputParser`に渡せば`AgentFinish`を抽出できます。`AgentFinish`が抽出した時点で、全体の処理が終わります。"
   ]
  },
  {
   "cell_type": "code",
   "execution_count": 121,
   "metadata": {},
   "outputs": [
    {
     "name": "stdout",
     "output_type": "stream",
     "text": [
      "AgentFinish(return_values={'output': 'Takuma is a teacher.'}, log=' I now know the final answer.\\nFinal Answer: Takuma is a teacher.')\n",
      "\n",
      "Final Answer: Takuma is a teacher.\n"
     ]
    }
   ],
   "source": [
    "action = parser.parse(third_step_output)\n",
    "print(action)\n",
    "print()\n",
    "print(\"Final Answer:\", action.return_values[\"output\"])"
   ]
  },
  {
   "attachments": {},
   "cell_type": "markdown",
   "metadata": {},
   "source": [
    "これで、Agentの最初から最後までの流れをひと通り解説を行いました。"
   ]
  }
 ],
 "metadata": {
  "kernelspec": {
   "display_name": "notion-db",
   "language": "python",
   "name": "python3"
  },
  "language_info": {
   "codemirror_mode": {
    "name": "ipython",
    "version": 3
   },
   "file_extension": ".py",
   "mimetype": "text/x-python",
   "name": "python",
   "nbconvert_exporter": "python",
   "pygments_lexer": "ipython3",
   "version": "3.9.0"
  },
  "orig_nbformat": 4
 },
 "nbformat": 4,
 "nbformat_minor": 2
}
