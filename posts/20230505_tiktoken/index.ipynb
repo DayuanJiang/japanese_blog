{
 "cells": [
  {
   "cell_type": "raw",
   "metadata": {},
   "source": [
    "---\n",
    "title: \"OpenAIのGPTのAPIのToken数に関する調査\"\n",
    "date: 2023-05-05\n",
    "description-meta: \"OpenAIのGPTモデルでドキュメントを処理する際に、日本語の1文字は大よそ1Tokenに等しいです。千文字のドキュメントを処理するためには、概算で、スピード重視のgpt-3.5-turboを使う場合は0.59円かかります。性能重視のgpt-4-32kを利用する場合は、9.7円かかります。\"\n",
    "categories: [NLP, LLMs, LangChain]\n",
    "---"
   ]
  },
  {
   "attachments": {},
   "cell_type": "markdown",
   "metadata": {},
   "source": [
    "## 結論\n",
    "OpenAIのGPTモデルでドキュメントを処理する際に、日本語の1文字は大よそ1Tokenに等しいです。千文字のドキュメントを処理するためには、概算で、スピード重視の`gpt-3.5-turbo`を使う場合は0.59円かかります。性能重視の`gpt-4-32k`を利用する場合は、9.7円かかります。\n",
    "\n",
    "## 目的\n",
    "GPT3を用いた提案をする際によく聞かれることとしては、コストいくらかのことです。GPT3のAPIの課金は下記のように文字数ではなく、`token`を単位としているため、説明するのは簡単ではないです。\n",
    "\n",
    "本文は値段の説明をしやすいように、実際のデータで実験してみます。ついてにTicTokenの挙動についても掘り下げてみます。\n",
    "実験のステップは下記の通りです。  \n",
    "\n",
    "1. livedoor ニュースコーパスをダウンロードする  \n",
    "2. ニュースコーパスを`tiktoken`でトークナイズする\n",
    "3. Token数/文字数で、千文字あたりの値段を計算する\n",
    "\n",
    "**テキスト補完モデル**\n",
    "<table style= 'width:100%'>\n",
    "  <tr>\n",
    "    <th>モデル名</th>\n",
    "    <th>値段(**Prompt**)</th>\n",
    "    <th>値段(**補完**)</th>\n",
    "    <th>最大トークン数</th>\n",
    "    <th>モデルサイズ(推測)</th>\n",
    "  </tr>\n",
    "  <tr>\n",
    "    <td>gpt-3.5-turbo</td>\n",
    "    <td>$0.002</td>\n",
    "    <td>$0.002</td>\n",
    "    <td>4,096</td>\n",
    "    <td>6.7B</td>\n",
    "  </tr>\n",
    "  <tr>\n",
    "    <td>gpt-4</td>\n",
    "    <td>$0.03</td>\n",
    "    <td>$0.06</td>\n",
    "    <td>8,192</td>\n",
    "    <td>不明</td>\n",
    "  </tr>\n",
    "  <tr>\n",
    "    <td>gpt-4-32k</td>\n",
    "    <td>$0.06</td>\n",
    "    <td>$0.12</td>\n",
    "    <td>32,768</td>\n",
    "    <td>不明</td>\n",
    "  </tr>\n",
    "</table>\n",
    "\n",
    "\n"
   ]
  },
  {
   "cell_type": "raw",
   "metadata": {},
   "source": []
  },
  {
   "attachments": {},
   "cell_type": "markdown",
   "metadata": {},
   "source": [
    "## 前準備\n",
    "GPT3のTokenizerは[`tiktoken`](https://github.com/openai/tiktoken)というライブラリを利用しているので、検証するためには`tiktoken`をインストールする必要があります。\n",
    "\n",
    "今回利用するデータは、[livedoor ニュースコーパス](https://www.rondhuit.com/download.html)です。livedoor ニュースコーパスは、9つのカテゴリに分類された、記事のデータセットです。"
   ]
  },
  {
   "cell_type": "code",
   "execution_count": 1,
   "metadata": {},
   "outputs": [],
   "source": [
    "!pip install tiktoken\n",
    "!curl -O https://www.rondhuit.com/download/ldcc-20140209.tar.gz\n",
    "!tar -zxvf ldcc-20140209.tar.gz"
   ]
  },
  {
   "attachments": {},
   "cell_type": "markdown",
   "metadata": {},
   "source": [
    "次に文字数とトークン数の関係を計算します。"
   ]
  },
  {
   "cell_type": "code",
   "execution_count": 1,
   "metadata": {},
   "outputs": [],
   "source": [
    "import glob\n",
    "import pandas as pd\n",
    "from matplotlib import pyplot as plt\n",
    "import tiktoken\n",
    "\n",
    "# load data\n",
    "path_list = glob.glob('./text/*/*.txt')\n",
    "txt_list =[]\n",
    "for path in path_list:\n",
    "    category = path.split('/')[2]\n",
    "    with open(path) as f:\n",
    "        # skip first 2 lines\n",
    "        for i in range(2):\n",
    "            f.readline()\n",
    "        txt_list.append(( category, f.read()))\n",
    "df =  pd.DataFrame( txt_list, columns=['category', 'text'])\n",
    "df[\"word_count\"] = df[\"text\"].apply(lambda x: len(x))\n",
    "\n",
    "# cl100k_base is for gpt-4, gpt-3.5-turbo, text-embedding-ada-002\n",
    "# https://github.com/openai/openai-cookbook/blob/main/examples/How_to_count_tokens_with_tiktoken.ipynb\n",
    "encoder = tiktoken.get_encoding(\"cl100k_base\")\n",
    "df[\"token_ids\"] = df[\"text\"].apply(lambda x: encoder.encode(x))\n",
    "df[\"token_count\"] = df[\"token_ids\"].apply(lambda x: len(x))\n",
    "df[\"tokens\"]  = df[\"token_ids\"].apply(lambda x: encoder.decode_tokens_bytes(x))\n",
    "df[\"word_token_ratio\"] = df[\"token_count\"] / df[\"word_count\"]"
   ]
  },
  {
   "attachments": {},
   "cell_type": "markdown",
   "metadata": {},
   "source": [
    "## 計算\n",
    "まず、処理するデータの様子を実際に見てみましょう。"
   ]
  },
  {
   "cell_type": "code",
   "execution_count": 2,
   "metadata": {},
   "outputs": [
    {
     "name": "stdout",
     "output_type": "stream",
     "text": [
      "ドキュメントのサンプル：\n",
      "【DVDエンター！】誘拐犯に育てられた女が目にした真実は、孤独か幸福か\n",
      "　2005年11月から翌2006年7月まで読売新聞にて連載された、直木賞作家・角田光代による初の長編サスペンス『八日目の蝉』。2010年に檀れいと北乃きいの出演によりテレビドラマ化された同作が、2011年4月に永作博美と井上真央の出演によって映画化。そして、劇場公開から半年が過ぎた10月28日、DVD＆ブルーレイとなって発売されました。\n",
      "\n",
      "八日目の蝉\n",
      "　妻子ある男と愛し合い、その子を身ごもりながら、あきらめざるをえなかった女。彼女は同時に、男の妻が子供を産んだことを知る。その赤ん坊を見に行った女は、突発的にその子を連れ去り、逃避行を続けた挙句、小豆島に落ち着き、母と娘として暮らしはじめる。\n",
      "\n",
      "\n",
      "不倫相手の子供を誘拐し、4年間育てた女\n",
      "　永作博美が演じる野々宮希和子は、不倫相手の子を宿しながらも、彼の「いずれ妻と別れるから、それまで待ってくれ」という常套句を信じて、中絶。後遺症により、二度と子供を産めない身体となってしまいます。その後、不倫相手から彼の妻が出産したことを知らされ、別れを決意。最後に諦めをつけるため、彼らの生後6ヶ月の赤ん坊・恵理菜の顔を見た希和子でしたが、自分に笑顔で向けた恵理菜を見て、思わず誘拐。名前を変えて恵理菜を薫と名付けると、人目を避けて各地を転々とし、二人で幸せな時間を過ごしますが、辿り着いた最後の場所・小豆島で4年の逃避行に終止符を打ちます。\n",
      "\n",
      "...\n"
     ]
    }
   ],
   "source": [
    "print(\"ドキュメントのサンプル：\")\n",
    "for i in txt_list[0][1].split('\\n')[:10]:\n",
    "    print(i)\n",
    "print(\"...\")"
   ]
  },
  {
   "attachments": {},
   "cell_type": "markdown",
   "metadata": {},
   "source": [
    "合計7,376件のドキュメントがあり、平均文字数は1,200文字程度です。"
   ]
  },
  {
   "cell_type": "code",
   "execution_count": 3,
   "metadata": {},
   "outputs": [
    {
     "data": {
      "text/plain": [
       "count     7376\n",
       "mean      1259\n",
       "std        763\n",
       "min         37\n",
       "25%        730\n",
       "50%       1069\n",
       "75%       1602\n",
       "max      12163\n",
       "Name: word_count, dtype: int64"
      ]
     },
     "execution_count": 3,
     "metadata": {},
     "output_type": "execute_result"
    }
   ],
   "source": [
    "df.word_count.describe().astype(int)"
   ]
  },
  {
   "attachments": {},
   "cell_type": "markdown",
   "metadata": {},
   "source": [
    "<span style=\"background-color: #FFFF00\">\n",
    "文字数とトークン数の割合を見ると、以外に1文字が1トークンになっていることがわかります。\n",
    "</span>\n",
    "また、この傾向が記事の種類によりますが、大きな違いはありません。"
   ]
  },
  {
   "cell_type": "code",
   "execution_count": 4,
   "metadata": {},
   "outputs": [
    {
     "data": {
      "text/plain": [
       "1.008244127016698"
      ]
     },
     "execution_count": 4,
     "metadata": {},
     "output_type": "execute_result"
    }
   ],
   "source": [
    "df.word_token_ratio.mean()"
   ]
  },
  {
   "cell_type": "code",
   "execution_count": 5,
   "metadata": {},
   "outputs": [
    {
     "data": {
      "text/plain": [
       "<Axes: ylabel='category'>"
      ]
     },
     "execution_count": 5,
     "metadata": {},
     "output_type": "execute_result"
    },
    {
     "data": {
      "image/png": "[encoded data removed]",
      "text/plain": [
       "<Figure size 1000x500 with 1 Axes>"
      ]
     },
     "metadata": {},
     "output_type": "display_data"
    }
   ],
   "source": [
    "df.groupby(\"category\").word_token_ratio.mean().sort_values().plot.barh(figsize=(10, 5))"
   ]
  },
  {
   "attachments": {},
   "cell_type": "markdown",
   "metadata": {},
   "source": [
    "これで文字数とトークン数の関係がわかることによって、ドキュメントを処理する課金を概算計算することができます。概算ロジックは以下と仮定します。\n",
    "\n",
    "-   インプットの長さは2000字とする。内訳は以下の通り。\n",
    "\n",
    "    -   処理するドキュメントの長さは1000字とする。\n",
    "\n",
    "    -   タスクの説明や、処理の例は1000字とする。\n",
    "\n",
    "-   アウトプットは200字とする。\n",
    "\n",
    "-   為替レートは1ドル=135円とする。\n",
    "\n",
    "これで計算すると1ドキュメントを処理するためには:\n",
    "\n",
    "- スピードを求める`gpt-3.5-turbo`の場合は、0.002 * 2200 / 1000 * 135 = 0.59円 かかります。\n",
    "\n",
    "- 性能を重視する`gpt-4-32k`を利用する場合は(0.03 * 2000 + 0.06 * 200) / 1000 * 135 = 9.7円 かかります。"
   ]
  },
  {
   "attachments": {},
   "cell_type": "markdown",
   "metadata": {},
   "source": [
    "## TicTokenの挙動\n",
    "\n",
    "### BPEモデルが違う\n",
    "日本語は英語よりトークン数が多いと話している投稿は過去Twitterで見たことがあります。今回実際に計算してみると、日本語の1文字は大よそ1Tokenに等しいことがわかりました。それはDecodingするモデルが違うためです。\n",
    "\n",
    "ここからはちょっと深い話をします。`TikToken`はBPE(Byte Pair Encoding)というデータ圧縮法に基づいて開発しました。コンピューターは文字を扱うことができないので、文字を数値に変換する必要があります。BPEは文字列をシンボルに置き換えることで、文字列を数値に変換します。BPEは頻繁に現れる文字のペアや、複数の文字を組み合わせたシンボルを生成します。それにより、入力するシーケンスの長さを短くすることができます。\n",
    "\n",
    "例えば、\"ab ab b\"の文字列について、\"ab\"を0に、\"b\"を1に置き換えると、\"0 0 1\"という文字列になります。このように、BPEは文字列をシンボルに置き換えることで、もともと長さが7の文字列を長さが5のシーケンスに変換できました。\n",
    "\n",
    "また、どの組み合わせをシンボルにするかはデータから学習することによって決められています。`gpt-3.5-turbo`と`gpt-4-32k`のモデルは以前のGPT3のモデルが違うので、Tokenizeした結果も違います。\n",
    "\n",
    "実際の例を見ましょう。"
   ]
  },
  {
   "cell_type": "code",
   "execution_count": 6,
   "metadata": {},
   "outputs": [
    {
     "name": "stdout",
     "output_type": "stream",
     "text": [
      "GPT3のトークン数：\n",
      "こんにちは: 6\n",
      "\n",
      "GPT4のトークン数：\n",
      "こんにちは: 1\n"
     ]
    }
   ],
   "source": [
    "gpt4_encoder = tiktoken.encoding_for_model(\"gpt-4-32k\")\n",
    "gpt3_encoder = tiktoken.encoding_for_model(\"text-davinci-003\")\n",
    "\n",
    "print(\"GPT3のトークン数：\")\n",
    "print(f\"こんにちは: {len(gpt3_encoder.encode('こんにちは'))}\")\n",
    "print()\n",
    "print(\"GPT4のトークン数：\")\n",
    "print(f\"こんにちは: {len(gpt4_encoder.encode('こんにちは'))}\")"
   ]
  },
  {
   "attachments": {},
   "cell_type": "markdown",
   "metadata": {},
   "source": [
    "GPT3のToken数がGPT4より多いことがわかります。例えば、「こんにちは」はGPT3で6Tokenになりますが、GPT4では1Tokenになります。\n",
    "\n",
    "### GPTのBPEモデルは日本語をバイト化してからトークン化している\n",
    "\n",
    "「こんにちは」については5文字はしかないですが、なぜ6Tokenになっているかに疑問を思うかもしれません。それはGPT3が多言語に対応するために、直接テキストで切っていなくて、日本語をまずバイトに変換して切っているからです。バイト化することにより違う言語でも共通のTokenで表現することができます。"
   ]
  },
  {
   "cell_type": "code",
   "execution_count": 7,
   "metadata": {},
   "outputs": [
    {
     "name": "stdout",
     "output_type": "stream",
     "text": [
      "Tokenize結果: [b'\\xe3\\x81\\x93', b'\\xe3\\x82\\x93', b'\\xe3\\x81\\xab', b'\\xe3\\x81', b'\\xa1', b'\\xe3\\x81\\xaf']\n",
      "Decoding結果: ['こ', 'ん', 'に', b'\\xe3\\x81', b'\\xa1', 'は']\n"
     ]
    }
   ],
   "source": [
    "tokeinzer_result_byte = gpt3_encoder.decode_tokens_bytes(gpt3_encoder.encode('こんにちは'))\n",
    "print(\"Tokenize結果:\", tokeinzer_result_byte)\n",
    "tokeinzer_result = [i.decode() if len(i) == 3 else i for i in tokeinzer_result_byte ]\n",
    "print(\"Decoding結果:\", tokeinzer_result)"
   ]
  },
  {
   "attachments": {},
   "cell_type": "markdown",
   "metadata": {},
   "source": [
    "上記の結果からわかることとしては、日本語1キャラクターは3バイトで表示しています。「こんにちは」の中の「ち」のみ2Tokenに分解されました。\n",
    "\n",
    "### 実際の比較\n",
    "つぎに、実際にデータでGPT3とGPT4のTokenizeの結果を比較してみましょう。"
   ]
  },
  {
   "cell_type": "code",
   "execution_count": 8,
   "metadata": {},
   "outputs": [
    {
     "data": {
      "text/plain": [
       "1.317645208825121"
      ]
     },
     "execution_count": 8,
     "metadata": {},
     "output_type": "execute_result"
    }
   ],
   "source": [
    "df[\"token_ids_gpt3\"] = df[\"text\"].apply(lambda x: gpt3_encoder.encode(x))\n",
    "df[\"token_count_gpt3\"] = df[\"token_ids_gpt3\"].apply(lambda x: len(x))\n",
    "df[\"word_token_ratio_gpt3\"] = df[\"token_count_gpt3\"] / df[\"word_count\"]\n",
    "df[\"word_token_ratio_gpt3\"].mean()"
   ]
  },
  {
   "attachments": {},
   "cell_type": "markdown",
   "metadata": {},
   "source": [
    "## まとめ\n",
    "\n",
    "過去にGPT3を使う場合は日本語のToken数は英語の2倍になる噂があります。GPTモデルで日本語のドキュメントを処理する際、1文字はおおよそ1トークンに等しいことがわかりました。千文字のドキュメントを処理するための概算コストは、スピード重視のgpt-3.5-turboを使う場合は0.59円、性能重視のgpt-4-32kを利用する場合は9.7円です。  \n",
    "\n",
    "また、GPT3とGPT4が使うTokenizerが違い、GPT3のトークン数はおおよそGPT4の1.3倍になります。"
   ]
  }
 ],
 "metadata": {
  "kernelspec": {
   "display_name": "notion-db",
   "language": "python",
   "name": "python3"
  },
  "language_info": {
   "codemirror_mode": {
    "name": "ipython",
    "version": 3
   },
   "file_extension": ".py",
   "mimetype": "text/x-python",
   "name": "python",
   "nbconvert_exporter": "python",
   "pygments_lexer": "ipython3",
   "version": "3.9.0"
  },
  "orig_nbformat": 4
 },
 "nbformat": 4,
 "nbformat_minor": 2
}
